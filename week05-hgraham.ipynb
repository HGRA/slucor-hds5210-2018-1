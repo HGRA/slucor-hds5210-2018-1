{
 "cells": [
  {
   "cell_type": "markdown",
   "metadata": {},
   "source": [
    "# ---\n",
    "Week 5 Assignment - Modules and Classes\n",
    "\n",
    "1 - Dose Class (15 pts)\n",
    "\n",
    "Take what we put together for the assignment in week 3 around parsing a string like \"Amoxicillin 10 mg/day\" and create a new class in a separate module that will help us manage that kind of information.\n",
    "\n",
    "Create a module file simply named \"dose\". In that new file, create a class named Dose. Your Dose class should have the following attributes and methods:\n",
    "\n",
    "* __init__(self, text)\n",
    "* drug for the drug name as a string\n",
    "* amount for the the amount as a float\n",
    "* mass_unit for just the mass units part as a string\n",
    "* time_unit for just the time units part as a string\n",
    "In your regular homework file (week05-username), demonstrate you code works using the procedure in the cell below:\n",
    "\n",
    "In [1]:\n",
    "import jupyterimporter\n",
    "from dose import Dose\n",
    "d = Dose('Amoxicillin 100 mg/hr')\n",
    "print(d.drug)\n",
    "print(d.amount)\n",
    "print(d.mass_unit)\n",
    "print(d.time_unit)\n",
    "importing Jupyter notebook from dose.ipynb\n",
    "Amoxicillin\n",
    "100.0\n",
    "mg\n",
    "hr\n",
    "In [2]:\n",
    "d.drug\n",
    "Out[2]:\n",
    "'Amoxicillin'\n",
    "In [2]:\n",
    "d.drug.find(\"o\")\n",
    "Out[2]:\n",
    "2"
   ]
  },
  {
   "cell_type": "markdown",
   "metadata": {},
   "source": [
    "\n"
   ]
  },
  {
   "cell_type": "code",
   "execution_count": 2,
   "metadata": {},
   "outputs": [
    {
     "ename": "ImportError",
     "evalue": "No module named 'Dose'",
     "output_type": "error",
     "traceback": [
      "\u001b[0;31m---------------------------------------------------------------------------\u001b[0m",
      "\u001b[0;31mImportError\u001b[0m                               Traceback (most recent call last)",
      "\u001b[0;32m<ipython-input-2-9aebd4868ae8>\u001b[0m in \u001b[0;36m<module>\u001b[0;34m()\u001b[0m\n\u001b[0;32m----> 1\u001b[0;31m \u001b[0;32mimport\u001b[0m \u001b[0mDose\u001b[0m\u001b[0;34m\u001b[0m\u001b[0m\n\u001b[0m\u001b[1;32m      2\u001b[0m \u001b[0;34m\u001b[0m\u001b[0m\n",
      "\u001b[0;31mImportError\u001b[0m: No module named 'Dose'"
     ]
    }
   ],
   "source": [
    "\n",
    "class Dose:\n",
    "    \"\"\"\"\n",
    "    \n",
    "    dosage for amoxicillin\n",
    "    \n",
    "    \"\"\"\"\"\n",
    "        \n",
    "    def __init__(self,text):\n",
    "        \n",
    "        d=Dose()\n",
    "        self.drug=text[0:text.find(' ')]\n",
    "        self.amount=int(d[first_space+1:second_space])\n",
    "        self.mass_unit=d[second_space +1]\n",
    "        self.time_unit=units[unit_sep_pos + 1:]\n",
    "        \n",
    "    first_space = drug.find(' ')\n",
    "    second_space = drug.find(' ', first_space + 1)\n",
    "    \n",
    "    # Parse out the three main pieces\n",
    "    name = drug[:first_space]\n",
    "    amount = int(drug[first_space + 1:second_space])\n",
    "    units = drug[second_space + 1:]\n",
    "    \n",
    "    # Parse the units into numerator / denominator\n",
    "    unit_sep_pos = units.find('/')\n",
    "    volume = units[:unit_sep_pos]\n",
    "    time = units[unit_sep_pos + 1:]\n",
    "        \n",
    "    def Dose(self):\n",
    "        print(\"amoxicillin\")\n",
    "    \n",
    "    def Dose(self):\n",
    "        print(100)\n",
    "        \n",
    "    def Dose(self):\n",
    "        print(\"mg\")\n",
    "        \n",
    "    def Dose(self):\n",
    "        print(\"hr\")\n",
    "        \n",
    "        return Dose('amoxicillin 100 mg/hr')\n",
    "            \n"
   ]
  },
  {
   "cell_type": "markdown",
   "metadata": {},
   "source": [
    "#---\n",
    "2 - Extending Dose\n",
    "Add another method to your Dose class like the following.\n",
    "\n",
    "* is_overdose(self, reference) which compares this Dose with the reference Dose\n",
    "For the sake of simplicity, don't worry about trying to convert units. Just check to see if they are the same in both the Dose and the reference Dose.\n",
    "\n",
    "If the drug and units are the same, and the amount is less than or equal to the reference amount, return False. If the drug and units are not the same, then return None. Otherwise return True.\n",
    "\n",
    "Note, 'None' is a special kind of value that any variable can have. It means that the value of this variable is undefined. Verify your work with the examples below.\n",
    "\n",
    "In [ ]:\n",
    "ref = Dose('Amoxicillin 50 mg/hr')\n",
    "print (d.is_overdose(ref))\n",
    "# Should return True\n",
    "\n",
    "print (d.is_overdose(d))\n",
    "# Should return False\n",
    "\n",
    "print (d.is_overdose(Dose('Penicillin 100 mg/day')))\n",
    "# Should return None\n",
    "In [1]:\n",
    "from dose import Dose\n",
    "d = Dose('MyDrug 10 g/hr')\n",
    "importing Jupyter notebook from dose.ipynb\n",
    "In [2]:\n",
    "d.drug()\n",
    "Out[2]:\n",
    "'MyDrug'"
   ]
  }
 ],
 "metadata": {
  "kernelspec": {
   "display_name": "Python 3",
   "language": "python",
   "name": "python3"
  },
  "language_info": {
   "codemirror_mode": {
    "name": "ipython",
    "version": 3
   },
   "file_extension": ".py",
   "mimetype": "text/x-python",
   "name": "python",
   "nbconvert_exporter": "python",
   "pygments_lexer": "ipython3",
   "version": "3.5.2"
  }
 },
 "nbformat": 4,
 "nbformat_minor": 2
}
